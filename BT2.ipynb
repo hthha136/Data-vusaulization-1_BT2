{
  "nbformat": 4,
  "nbformat_minor": 0,
  "metadata": {
    "colab": {
      "provenance": []
    },
    "kernelspec": {
      "name": "python3",
      "display_name": "Python 3"
    },
    "language_info": {
      "name": "python"
    }
  },
  "cells": [
    {
      "cell_type": "code",
      "execution_count": null,
      "metadata": {
        "id": "7YGaDOOmwcfG"
      },
      "outputs": [],
      "source": [
        "import numpy as np\n",
        "import pandas as pd\n",
        "import matplotlib.pyplot as plt\n",
        "import seaborn as sns\n",
        "import statsmodels.api as sm"
      ]
    },
    {
      "cell_type": "code",
      "source": [
        "%cd '/content/drive/MyDrive/ML-DL/CodeGym'\n",
        "!ls"
      ],
      "metadata": {
        "colab": {
          "base_uri": "https://localhost:8080/"
        },
        "id": "Jjhd0u1fpRZZ",
        "outputId": "141fb939-26f9-4f16-c85a-9b452907d4d1"
      },
      "execution_count": null,
      "outputs": [
        {
          "output_type": "stream",
          "name": "stdout",
          "text": [
            "/content/drive/MyDrive/ML-DL/CodeGym\n",
            "GDPlist.csv\t\t\t\tUntitled0.ipynb  Untitled3.ipynb\n",
            "house_price_Dống-Da_Hà-Nội_subdata.csv\tUntitled1.ipynb  Untitled4.ipynb\n",
            "OnlineRetail.csv\t\t\tUntitled2.ipynb  Untitled5.ipynb\n"
          ]
        }
      ]
    },
    {
      "cell_type": "code",
      "source": [
        "df = pd.read_csv('house_price_Dống-Da_Hà-Nội_subdata.csv', encoding=\"latin1\")\n",
        "df.head(3)"
      ],
      "metadata": {
        "colab": {
          "base_uri": "https://localhost:8080/",
          "height": 143
        },
        "id": "dZ4oDlfLpbIb",
        "outputId": "37496cde-c3bc-42ae-d74e-b90ac907b592"
      },
      "execution_count": null,
      "outputs": [
        {
          "output_type": "execute_result",
          "data": {
            "text/plain": [
              "   area    price  postDate land_certificate house_direction balcony_direction  \\\n",
              "0  50.0  14700.0     44197            So do             NaN               NaN   \n",
              "1  57.0   4200.0     44265            So do             Nam               Nam   \n",
              "2  62.0  11000.0     44268            So do             NaN          dong-Nam   \n",
              "\n",
              "   toilet  bedroom  floor        lat        long property_type  \n",
              "0     4.0      6.0    6.0  21.015698  105.824583     trong ngo  \n",
              "1     3.0      8.0    4.0  21.025208  105.833111     trong ngo  \n",
              "2     6.0      5.0    6.0  21.025379  105.801011     trong ngo  "
            ],
            "text/html": [
              "\n",
              "  <div id=\"df-3ed3d175-8791-4bd7-b2dd-5aefeb611b31\">\n",
              "    <div class=\"colab-df-container\">\n",
              "      <div>\n",
              "<style scoped>\n",
              "    .dataframe tbody tr th:only-of-type {\n",
              "        vertical-align: middle;\n",
              "    }\n",
              "\n",
              "    .dataframe tbody tr th {\n",
              "        vertical-align: top;\n",
              "    }\n",
              "\n",
              "    .dataframe thead th {\n",
              "        text-align: right;\n",
              "    }\n",
              "</style>\n",
              "<table border=\"1\" class=\"dataframe\">\n",
              "  <thead>\n",
              "    <tr style=\"text-align: right;\">\n",
              "      <th></th>\n",
              "      <th>area</th>\n",
              "      <th>price</th>\n",
              "      <th>postDate</th>\n",
              "      <th>land_certificate</th>\n",
              "      <th>house_direction</th>\n",
              "      <th>balcony_direction</th>\n",
              "      <th>toilet</th>\n",
              "      <th>bedroom</th>\n",
              "      <th>floor</th>\n",
              "      <th>lat</th>\n",
              "      <th>long</th>\n",
              "      <th>property_type</th>\n",
              "    </tr>\n",
              "  </thead>\n",
              "  <tbody>\n",
              "    <tr>\n",
              "      <th>0</th>\n",
              "      <td>50.0</td>\n",
              "      <td>14700.0</td>\n",
              "      <td>44197</td>\n",
              "      <td>So do</td>\n",
              "      <td>NaN</td>\n",
              "      <td>NaN</td>\n",
              "      <td>4.0</td>\n",
              "      <td>6.0</td>\n",
              "      <td>6.0</td>\n",
              "      <td>21.015698</td>\n",
              "      <td>105.824583</td>\n",
              "      <td>trong ngo</td>\n",
              "    </tr>\n",
              "    <tr>\n",
              "      <th>1</th>\n",
              "      <td>57.0</td>\n",
              "      <td>4200.0</td>\n",
              "      <td>44265</td>\n",
              "      <td>So do</td>\n",
              "      <td>Nam</td>\n",
              "      <td>Nam</td>\n",
              "      <td>3.0</td>\n",
              "      <td>8.0</td>\n",
              "      <td>4.0</td>\n",
              "      <td>21.025208</td>\n",
              "      <td>105.833111</td>\n",
              "      <td>trong ngo</td>\n",
              "    </tr>\n",
              "    <tr>\n",
              "      <th>2</th>\n",
              "      <td>62.0</td>\n",
              "      <td>11000.0</td>\n",
              "      <td>44268</td>\n",
              "      <td>So do</td>\n",
              "      <td>NaN</td>\n",
              "      <td>dong-Nam</td>\n",
              "      <td>6.0</td>\n",
              "      <td>5.0</td>\n",
              "      <td>6.0</td>\n",
              "      <td>21.025379</td>\n",
              "      <td>105.801011</td>\n",
              "      <td>trong ngo</td>\n",
              "    </tr>\n",
              "  </tbody>\n",
              "</table>\n",
              "</div>\n",
              "      <button class=\"colab-df-convert\" onclick=\"convertToInteractive('df-3ed3d175-8791-4bd7-b2dd-5aefeb611b31')\"\n",
              "              title=\"Convert this dataframe to an interactive table.\"\n",
              "              style=\"display:none;\">\n",
              "        \n",
              "  <svg xmlns=\"http://www.w3.org/2000/svg\" height=\"24px\"viewBox=\"0 0 24 24\"\n",
              "       width=\"24px\">\n",
              "    <path d=\"M0 0h24v24H0V0z\" fill=\"none\"/>\n",
              "    <path d=\"M18.56 5.44l.94 2.06.94-2.06 2.06-.94-2.06-.94-.94-2.06-.94 2.06-2.06.94zm-11 1L8.5 8.5l.94-2.06 2.06-.94-2.06-.94L8.5 2.5l-.94 2.06-2.06.94zm10 10l.94 2.06.94-2.06 2.06-.94-2.06-.94-.94-2.06-.94 2.06-2.06.94z\"/><path d=\"M17.41 7.96l-1.37-1.37c-.4-.4-.92-.59-1.43-.59-.52 0-1.04.2-1.43.59L10.3 9.45l-7.72 7.72c-.78.78-.78 2.05 0 2.83L4 21.41c.39.39.9.59 1.41.59.51 0 1.02-.2 1.41-.59l7.78-7.78 2.81-2.81c.8-.78.8-2.07 0-2.86zM5.41 20L4 18.59l7.72-7.72 1.47 1.35L5.41 20z\"/>\n",
              "  </svg>\n",
              "      </button>\n",
              "      \n",
              "  <style>\n",
              "    .colab-df-container {\n",
              "      display:flex;\n",
              "      flex-wrap:wrap;\n",
              "      gap: 12px;\n",
              "    }\n",
              "\n",
              "    .colab-df-convert {\n",
              "      background-color: #E8F0FE;\n",
              "      border: none;\n",
              "      border-radius: 50%;\n",
              "      cursor: pointer;\n",
              "      display: none;\n",
              "      fill: #1967D2;\n",
              "      height: 32px;\n",
              "      padding: 0 0 0 0;\n",
              "      width: 32px;\n",
              "    }\n",
              "\n",
              "    .colab-df-convert:hover {\n",
              "      background-color: #E2EBFA;\n",
              "      box-shadow: 0px 1px 2px rgba(60, 64, 67, 0.3), 0px 1px 3px 1px rgba(60, 64, 67, 0.15);\n",
              "      fill: #174EA6;\n",
              "    }\n",
              "\n",
              "    [theme=dark] .colab-df-convert {\n",
              "      background-color: #3B4455;\n",
              "      fill: #D2E3FC;\n",
              "    }\n",
              "\n",
              "    [theme=dark] .colab-df-convert:hover {\n",
              "      background-color: #434B5C;\n",
              "      box-shadow: 0px 1px 3px 1px rgba(0, 0, 0, 0.15);\n",
              "      filter: drop-shadow(0px 1px 2px rgba(0, 0, 0, 0.3));\n",
              "      fill: #FFFFFF;\n",
              "    }\n",
              "  </style>\n",
              "\n",
              "      <script>\n",
              "        const buttonEl =\n",
              "          document.querySelector('#df-3ed3d175-8791-4bd7-b2dd-5aefeb611b31 button.colab-df-convert');\n",
              "        buttonEl.style.display =\n",
              "          google.colab.kernel.accessAllowed ? 'block' : 'none';\n",
              "\n",
              "        async function convertToInteractive(key) {\n",
              "          const element = document.querySelector('#df-3ed3d175-8791-4bd7-b2dd-5aefeb611b31');\n",
              "          const dataTable =\n",
              "            await google.colab.kernel.invokeFunction('convertToInteractive',\n",
              "                                                     [key], {});\n",
              "          if (!dataTable) return;\n",
              "\n",
              "          const docLinkHtml = 'Like what you see? Visit the ' +\n",
              "            '<a target=\"_blank\" href=https://colab.research.google.com/notebooks/data_table.ipynb>data table notebook</a>'\n",
              "            + ' to learn more about interactive tables.';\n",
              "          element.innerHTML = '';\n",
              "          dataTable['output_type'] = 'display_data';\n",
              "          await google.colab.output.renderOutput(dataTable, element);\n",
              "          const docLink = document.createElement('div');\n",
              "          docLink.innerHTML = docLinkHtml;\n",
              "          element.appendChild(docLink);\n",
              "        }\n",
              "      </script>\n",
              "    </div>\n",
              "  </div>\n",
              "  "
            ]
          },
          "metadata": {},
          "execution_count": 3
        }
      ]
    },
    {
      "cell_type": "code",
      "source": [
        "df.info()"
      ],
      "metadata": {
        "colab": {
          "base_uri": "https://localhost:8080/"
        },
        "id": "CTIzB4BtpftF",
        "outputId": "baf907b6-dc4f-4bc6-f670-5a9b469c4650"
      },
      "execution_count": null,
      "outputs": [
        {
          "output_type": "stream",
          "name": "stdout",
          "text": [
            "<class 'pandas.core.frame.DataFrame'>\n",
            "RangeIndex: 671 entries, 0 to 670\n",
            "Data columns (total 12 columns):\n",
            " #   Column             Non-Null Count  Dtype  \n",
            "---  ------             --------------  -----  \n",
            " 0   area               665 non-null    float64\n",
            " 1   price              617 non-null    float64\n",
            " 2   postDate           671 non-null    int64  \n",
            " 3   land_certificate   369 non-null    object \n",
            " 4   house_direction    42 non-null     object \n",
            " 5   balcony_direction  24 non-null     object \n",
            " 6   toilet             240 non-null    float64\n",
            " 7   bedroom            320 non-null    float64\n",
            " 8   floor              366 non-null    float64\n",
            " 9   lat                671 non-null    float64\n",
            " 10  long               671 non-null    float64\n",
            " 11  property_type      671 non-null    object \n",
            "dtypes: float64(7), int64(1), object(4)\n",
            "memory usage: 63.0+ KB\n"
          ]
        }
      ]
    },
    {
      "cell_type": "code",
      "source": [
        "df.describe()"
      ],
      "metadata": {
        "colab": {
          "base_uri": "https://localhost:8080/",
          "height": 300
        },
        "id": "pvAffRvopis6",
        "outputId": "233d8c3a-5dc2-41c3-c215-78167200e616"
      },
      "execution_count": null,
      "outputs": [
        {
          "output_type": "execute_result",
          "data": {
            "text/plain": [
              "               area         price      postDate      toilet    bedroom  \\\n",
              "count    665.000000  6.170000e+02    671.000000  240.000000  320.00000   \n",
              "mean     103.763534  2.892758e+04  44259.903130    3.645833    4.31875   \n",
              "std      471.861867  1.464474e+05     58.280392    2.349126    2.58976   \n",
              "min        0.000000  4.500000e+00  44197.000000    1.000000    1.00000   \n",
              "25%       39.000000  3.950000e+03  44197.000000    2.000000    3.00000   \n",
              "50%       55.000000  8.900000e+03  44292.000000    4.000000    4.00000   \n",
              "75%       80.000000  2.150000e+04  44312.000000    4.250000    6.00000   \n",
              "max    11000.000000  3.300000e+06  44325.000000   16.000000   22.00000   \n",
              "\n",
              "            floor         lat        long  \n",
              "count  366.000000  671.000000  671.000000  \n",
              "mean     4.762295   21.015733  105.825550  \n",
              "std      1.676853    0.006517    0.009011  \n",
              "min      1.000000   20.998499  105.795544  \n",
              "25%      4.000000   21.011094  105.822605  \n",
              "50%      5.000000   21.018072  105.828985  \n",
              "75%      5.000000   21.018777  105.829949  \n",
              "max     11.000000   21.036845  105.841407  "
            ],
            "text/html": [
              "\n",
              "  <div id=\"df-96d84548-c658-47fc-8ac7-b82769856a11\">\n",
              "    <div class=\"colab-df-container\">\n",
              "      <div>\n",
              "<style scoped>\n",
              "    .dataframe tbody tr th:only-of-type {\n",
              "        vertical-align: middle;\n",
              "    }\n",
              "\n",
              "    .dataframe tbody tr th {\n",
              "        vertical-align: top;\n",
              "    }\n",
              "\n",
              "    .dataframe thead th {\n",
              "        text-align: right;\n",
              "    }\n",
              "</style>\n",
              "<table border=\"1\" class=\"dataframe\">\n",
              "  <thead>\n",
              "    <tr style=\"text-align: right;\">\n",
              "      <th></th>\n",
              "      <th>area</th>\n",
              "      <th>price</th>\n",
              "      <th>postDate</th>\n",
              "      <th>toilet</th>\n",
              "      <th>bedroom</th>\n",
              "      <th>floor</th>\n",
              "      <th>lat</th>\n",
              "      <th>long</th>\n",
              "    </tr>\n",
              "  </thead>\n",
              "  <tbody>\n",
              "    <tr>\n",
              "      <th>count</th>\n",
              "      <td>665.000000</td>\n",
              "      <td>6.170000e+02</td>\n",
              "      <td>671.000000</td>\n",
              "      <td>240.000000</td>\n",
              "      <td>320.00000</td>\n",
              "      <td>366.000000</td>\n",
              "      <td>671.000000</td>\n",
              "      <td>671.000000</td>\n",
              "    </tr>\n",
              "    <tr>\n",
              "      <th>mean</th>\n",
              "      <td>103.763534</td>\n",
              "      <td>2.892758e+04</td>\n",
              "      <td>44259.903130</td>\n",
              "      <td>3.645833</td>\n",
              "      <td>4.31875</td>\n",
              "      <td>4.762295</td>\n",
              "      <td>21.015733</td>\n",
              "      <td>105.825550</td>\n",
              "    </tr>\n",
              "    <tr>\n",
              "      <th>std</th>\n",
              "      <td>471.861867</td>\n",
              "      <td>1.464474e+05</td>\n",
              "      <td>58.280392</td>\n",
              "      <td>2.349126</td>\n",
              "      <td>2.58976</td>\n",
              "      <td>1.676853</td>\n",
              "      <td>0.006517</td>\n",
              "      <td>0.009011</td>\n",
              "    </tr>\n",
              "    <tr>\n",
              "      <th>min</th>\n",
              "      <td>0.000000</td>\n",
              "      <td>4.500000e+00</td>\n",
              "      <td>44197.000000</td>\n",
              "      <td>1.000000</td>\n",
              "      <td>1.00000</td>\n",
              "      <td>1.000000</td>\n",
              "      <td>20.998499</td>\n",
              "      <td>105.795544</td>\n",
              "    </tr>\n",
              "    <tr>\n",
              "      <th>25%</th>\n",
              "      <td>39.000000</td>\n",
              "      <td>3.950000e+03</td>\n",
              "      <td>44197.000000</td>\n",
              "      <td>2.000000</td>\n",
              "      <td>3.00000</td>\n",
              "      <td>4.000000</td>\n",
              "      <td>21.011094</td>\n",
              "      <td>105.822605</td>\n",
              "    </tr>\n",
              "    <tr>\n",
              "      <th>50%</th>\n",
              "      <td>55.000000</td>\n",
              "      <td>8.900000e+03</td>\n",
              "      <td>44292.000000</td>\n",
              "      <td>4.000000</td>\n",
              "      <td>4.00000</td>\n",
              "      <td>5.000000</td>\n",
              "      <td>21.018072</td>\n",
              "      <td>105.828985</td>\n",
              "    </tr>\n",
              "    <tr>\n",
              "      <th>75%</th>\n",
              "      <td>80.000000</td>\n",
              "      <td>2.150000e+04</td>\n",
              "      <td>44312.000000</td>\n",
              "      <td>4.250000</td>\n",
              "      <td>6.00000</td>\n",
              "      <td>5.000000</td>\n",
              "      <td>21.018777</td>\n",
              "      <td>105.829949</td>\n",
              "    </tr>\n",
              "    <tr>\n",
              "      <th>max</th>\n",
              "      <td>11000.000000</td>\n",
              "      <td>3.300000e+06</td>\n",
              "      <td>44325.000000</td>\n",
              "      <td>16.000000</td>\n",
              "      <td>22.00000</td>\n",
              "      <td>11.000000</td>\n",
              "      <td>21.036845</td>\n",
              "      <td>105.841407</td>\n",
              "    </tr>\n",
              "  </tbody>\n",
              "</table>\n",
              "</div>\n",
              "      <button class=\"colab-df-convert\" onclick=\"convertToInteractive('df-96d84548-c658-47fc-8ac7-b82769856a11')\"\n",
              "              title=\"Convert this dataframe to an interactive table.\"\n",
              "              style=\"display:none;\">\n",
              "        \n",
              "  <svg xmlns=\"http://www.w3.org/2000/svg\" height=\"24px\"viewBox=\"0 0 24 24\"\n",
              "       width=\"24px\">\n",
              "    <path d=\"M0 0h24v24H0V0z\" fill=\"none\"/>\n",
              "    <path d=\"M18.56 5.44l.94 2.06.94-2.06 2.06-.94-2.06-.94-.94-2.06-.94 2.06-2.06.94zm-11 1L8.5 8.5l.94-2.06 2.06-.94-2.06-.94L8.5 2.5l-.94 2.06-2.06.94zm10 10l.94 2.06.94-2.06 2.06-.94-2.06-.94-.94-2.06-.94 2.06-2.06.94z\"/><path d=\"M17.41 7.96l-1.37-1.37c-.4-.4-.92-.59-1.43-.59-.52 0-1.04.2-1.43.59L10.3 9.45l-7.72 7.72c-.78.78-.78 2.05 0 2.83L4 21.41c.39.39.9.59 1.41.59.51 0 1.02-.2 1.41-.59l7.78-7.78 2.81-2.81c.8-.78.8-2.07 0-2.86zM5.41 20L4 18.59l7.72-7.72 1.47 1.35L5.41 20z\"/>\n",
              "  </svg>\n",
              "      </button>\n",
              "      \n",
              "  <style>\n",
              "    .colab-df-container {\n",
              "      display:flex;\n",
              "      flex-wrap:wrap;\n",
              "      gap: 12px;\n",
              "    }\n",
              "\n",
              "    .colab-df-convert {\n",
              "      background-color: #E8F0FE;\n",
              "      border: none;\n",
              "      border-radius: 50%;\n",
              "      cursor: pointer;\n",
              "      display: none;\n",
              "      fill: #1967D2;\n",
              "      height: 32px;\n",
              "      padding: 0 0 0 0;\n",
              "      width: 32px;\n",
              "    }\n",
              "\n",
              "    .colab-df-convert:hover {\n",
              "      background-color: #E2EBFA;\n",
              "      box-shadow: 0px 1px 2px rgba(60, 64, 67, 0.3), 0px 1px 3px 1px rgba(60, 64, 67, 0.15);\n",
              "      fill: #174EA6;\n",
              "    }\n",
              "\n",
              "    [theme=dark] .colab-df-convert {\n",
              "      background-color: #3B4455;\n",
              "      fill: #D2E3FC;\n",
              "    }\n",
              "\n",
              "    [theme=dark] .colab-df-convert:hover {\n",
              "      background-color: #434B5C;\n",
              "      box-shadow: 0px 1px 3px 1px rgba(0, 0, 0, 0.15);\n",
              "      filter: drop-shadow(0px 1px 2px rgba(0, 0, 0, 0.3));\n",
              "      fill: #FFFFFF;\n",
              "    }\n",
              "  </style>\n",
              "\n",
              "      <script>\n",
              "        const buttonEl =\n",
              "          document.querySelector('#df-96d84548-c658-47fc-8ac7-b82769856a11 button.colab-df-convert');\n",
              "        buttonEl.style.display =\n",
              "          google.colab.kernel.accessAllowed ? 'block' : 'none';\n",
              "\n",
              "        async function convertToInteractive(key) {\n",
              "          const element = document.querySelector('#df-96d84548-c658-47fc-8ac7-b82769856a11');\n",
              "          const dataTable =\n",
              "            await google.colab.kernel.invokeFunction('convertToInteractive',\n",
              "                                                     [key], {});\n",
              "          if (!dataTable) return;\n",
              "\n",
              "          const docLinkHtml = 'Like what you see? Visit the ' +\n",
              "            '<a target=\"_blank\" href=https://colab.research.google.com/notebooks/data_table.ipynb>data table notebook</a>'\n",
              "            + ' to learn more about interactive tables.';\n",
              "          element.innerHTML = '';\n",
              "          dataTable['output_type'] = 'display_data';\n",
              "          await google.colab.output.renderOutput(dataTable, element);\n",
              "          const docLink = document.createElement('div');\n",
              "          docLink.innerHTML = docLinkHtml;\n",
              "          element.appendChild(docLink);\n",
              "        }\n",
              "      </script>\n",
              "    </div>\n",
              "  </div>\n",
              "  "
            ]
          },
          "metadata": {},
          "execution_count": 5
        }
      ]
    },
    {
      "cell_type": "code",
      "source": [
        "df.isnull().sum()"
      ],
      "metadata": {
        "colab": {
          "base_uri": "https://localhost:8080/"
        },
        "id": "hXJgu7VPpoMm",
        "outputId": "17dac3c8-8c4b-4f65-8f04-6d776c9781cf"
      },
      "execution_count": null,
      "outputs": [
        {
          "output_type": "execute_result",
          "data": {
            "text/plain": [
              "area                   6\n",
              "price                 54\n",
              "postDate               0\n",
              "land_certificate     302\n",
              "house_direction      629\n",
              "balcony_direction    647\n",
              "toilet               431\n",
              "bedroom              351\n",
              "floor                305\n",
              "lat                    0\n",
              "long                   0\n",
              "property_type          0\n",
              "dtype: int64"
            ]
          },
          "metadata": {},
          "execution_count": 6
        }
      ]
    },
    {
      "cell_type": "code",
      "source": [
        "df['land_certificate'] = df['land_certificate'].fillna(\"no information\")"
      ],
      "metadata": {
        "id": "7lRtDRC0prkH"
      },
      "execution_count": null,
      "outputs": []
    },
    {
      "cell_type": "code",
      "source": [
        "df['area'].value_counts()"
      ],
      "metadata": {
        "colab": {
          "base_uri": "https://localhost:8080/"
        },
        "id": "LaeRLmYRpuY2",
        "outputId": "a7bc37a1-225a-4ee7-bd9e-c94b28622ed6"
      },
      "execution_count": null,
      "outputs": [
        {
          "output_type": "execute_result",
          "data": {
            "text/plain": [
              "0.0      41\n",
              "35.0     34\n",
              "45.0     33\n",
              "55.0     31\n",
              "50.0     27\n",
              "         ..\n",
              "365.0     1\n",
              "78.8      1\n",
              "158.0     1\n",
              "22.0      1\n",
              "107.0     1\n",
              "Name: area, Length: 127, dtype: int64"
            ]
          },
          "metadata": {},
          "execution_count": 8
        }
      ]
    },
    {
      "cell_type": "code",
      "source": [
        "df['area'] = df['area'].fillna(0.0)"
      ],
      "metadata": {
        "id": "ICJ611SypyKo"
      },
      "execution_count": null,
      "outputs": []
    },
    {
      "cell_type": "code",
      "source": [
        "df['house_direction'].value_counts()"
      ],
      "metadata": {
        "colab": {
          "base_uri": "https://localhost:8080/"
        },
        "id": "RUDdvUFJp0uA",
        "outputId": "33fc85e0-c310-4d84-fde0-934e74bb4bce"
      },
      "execution_count": null,
      "outputs": [
        {
          "output_type": "execute_result",
          "data": {
            "text/plain": [
              "dong-Nam    17\n",
              "Tay-Nam      8\n",
              "Tay-Bac      6\n",
              "dong-Bac     4\n",
              "Nam          3\n",
              "dong         3\n",
              "Bac          1\n",
              "Name: house_direction, dtype: int64"
            ]
          },
          "metadata": {},
          "execution_count": 10
        }
      ]
    },
    {
      "cell_type": "code",
      "source": [
        "df['house_direction'] = df['house_direction'].fillna('dong-Nam')"
      ],
      "metadata": {
        "id": "8Kk21jQVp3ah"
      },
      "execution_count": null,
      "outputs": []
    },
    {
      "cell_type": "code",
      "source": [
        "df['balcony_direction'].value_counts()"
      ],
      "metadata": {
        "colab": {
          "base_uri": "https://localhost:8080/"
        },
        "id": "DlXQcUV1p6OQ",
        "outputId": "8933de28-cbaf-4873-db0d-17d4f11837d5"
      },
      "execution_count": null,
      "outputs": [
        {
          "output_type": "execute_result",
          "data": {
            "text/plain": [
              "dong-Nam    11\n",
              "Tay-Nam      4\n",
              "Tay-Bac      3\n",
              "Nam          2\n",
              "dong         2\n",
              "Bac          1\n",
              "dong-Bac     1\n",
              "Name: balcony_direction, dtype: int64"
            ]
          },
          "metadata": {},
          "execution_count": 12
        }
      ]
    },
    {
      "cell_type": "code",
      "source": [
        "df['balcony_direction'] = df['balcony_direction'].fillna('dong-Nam')"
      ],
      "metadata": {
        "id": "0mkxAB4qp8uq"
      },
      "execution_count": null,
      "outputs": []
    },
    {
      "cell_type": "code",
      "source": [
        "df['toilet'].value_counts()"
      ],
      "metadata": {
        "colab": {
          "base_uri": "https://localhost:8080/"
        },
        "id": "uqRVyj10p-2M",
        "outputId": "5b83f168-cc82-4276-8499-e025054ecacc"
      },
      "execution_count": null,
      "outputs": [
        {
          "output_type": "execute_result",
          "data": {
            "text/plain": [
              "4.0     65\n",
              "1.0     55\n",
              "3.0     37\n",
              "2.0     23\n",
              "5.0     21\n",
              "6.0     15\n",
              "7.0     10\n",
              "8.0      7\n",
              "10.0     2\n",
              "12.0     2\n",
              "11.0     2\n",
              "16.0     1\n",
              "Name: toilet, dtype: int64"
            ]
          },
          "metadata": {},
          "execution_count": 14
        }
      ]
    },
    {
      "cell_type": "code",
      "source": [
        "df['toilet'] = df['toilet'].fillna(4.0)"
      ],
      "metadata": {
        "id": "o1_klwpGqBlQ"
      },
      "execution_count": null,
      "outputs": []
    },
    {
      "cell_type": "code",
      "source": [
        "df['bedroom'].value_counts()"
      ],
      "metadata": {
        "colab": {
          "base_uri": "https://localhost:8080/"
        },
        "id": "6lhxoVTRqEEi",
        "outputId": "b5ef2eca-24e1-4f79-9d07-331ff3d596b0"
      },
      "execution_count": null,
      "outputs": [
        {
          "output_type": "execute_result",
          "data": {
            "text/plain": [
              "3.0     75\n",
              "4.0     56\n",
              "6.0     49\n",
              "2.0     46\n",
              "5.0     29\n",
              "1.0     25\n",
              "8.0     14\n",
              "10.0    10\n",
              "7.0      6\n",
              "9.0      3\n",
              "14.0     2\n",
              "12.0     2\n",
              "11.0     2\n",
              "22.0     1\n",
              "Name: bedroom, dtype: int64"
            ]
          },
          "metadata": {},
          "execution_count": 16
        }
      ]
    },
    {
      "cell_type": "code",
      "source": [
        "df['bedroom'] = df['bedroom'].fillna(3.0)"
      ],
      "metadata": {
        "id": "HTg16uO0qG4U"
      },
      "execution_count": null,
      "outputs": []
    },
    {
      "cell_type": "code",
      "source": [
        "df['floor'].value_counts()"
      ],
      "metadata": {
        "colab": {
          "base_uri": "https://localhost:8080/"
        },
        "id": "XHh6XNPHqJhE",
        "outputId": "73aec5ee-039c-4854-8630-03daf865c4c4"
      },
      "execution_count": null,
      "outputs": [
        {
          "output_type": "execute_result",
          "data": {
            "text/plain": [
              "5.0     121\n",
              "4.0      97\n",
              "6.0      33\n",
              "3.0      29\n",
              "7.0      28\n",
              "2.0      19\n",
              "8.0      18\n",
              "1.0      13\n",
              "9.0       7\n",
              "11.0      1\n",
              "Name: floor, dtype: int64"
            ]
          },
          "metadata": {},
          "execution_count": 18
        }
      ]
    },
    {
      "cell_type": "code",
      "source": [
        "df['floor'] = df['floor'].fillna(5.0)"
      ],
      "metadata": {
        "id": "vt-Wt_8PqMIV"
      },
      "execution_count": null,
      "outputs": []
    },
    {
      "cell_type": "code",
      "source": [
        "df.isnull().sum()"
      ],
      "metadata": {
        "colab": {
          "base_uri": "https://localhost:8080/"
        },
        "id": "1fCVhfRkqOdb",
        "outputId": "a9d16f03-2f88-4fc5-e4b9-9b5cb1b55dfb"
      },
      "execution_count": null,
      "outputs": [
        {
          "output_type": "execute_result",
          "data": {
            "text/plain": [
              "area                  0\n",
              "price                54\n",
              "postDate              0\n",
              "land_certificate      0\n",
              "house_direction       0\n",
              "balcony_direction     0\n",
              "toilet                0\n",
              "bedroom               0\n",
              "floor                 0\n",
              "lat                   0\n",
              "long                  0\n",
              "property_type         0\n",
              "dtype: int64"
            ]
          },
          "metadata": {},
          "execution_count": 20
        }
      ]
    },
    {
      "cell_type": "code",
      "source": [
        "df = df.dropna()"
      ],
      "metadata": {
        "id": "iaPT6fYGqRSd"
      },
      "execution_count": null,
      "outputs": []
    },
    {
      "cell_type": "code",
      "source": [
        "df1 = df[(df['area'] > 0)]"
      ],
      "metadata": {
        "id": "xoFwnWimqUPS"
      },
      "execution_count": null,
      "outputs": []
    },
    {
      "cell_type": "code",
      "source": [
        "df1.isnull().sum()"
      ],
      "metadata": {
        "colab": {
          "base_uri": "https://localhost:8080/"
        },
        "id": "7sSF-CEFqWOC",
        "outputId": "6619309a-129a-4e62-90f1-784ef285553e"
      },
      "execution_count": null,
      "outputs": [
        {
          "output_type": "execute_result",
          "data": {
            "text/plain": [
              "area                 0\n",
              "price                0\n",
              "postDate             0\n",
              "land_certificate     0\n",
              "house_direction      0\n",
              "balcony_direction    0\n",
              "toilet               0\n",
              "bedroom              0\n",
              "floor                0\n",
              "lat                  0\n",
              "long                 0\n",
              "property_type        0\n",
              "dtype: int64"
            ]
          },
          "metadata": {},
          "execution_count": 23
        }
      ]
    },
    {
      "cell_type": "code",
      "source": [
        "df1['P/A'] = df1['price'] / df1['area']\n",
        "df1.head()"
      ],
      "metadata": {
        "colab": {
          "base_uri": "https://localhost:8080/",
          "height": 317
        },
        "id": "nRymIr34qvSP",
        "outputId": "144e4bc9-35a9-48de-e91e-bd8d032ec10b"
      },
      "execution_count": null,
      "outputs": [
        {
          "output_type": "stream",
          "name": "stderr",
          "text": [
            "/usr/local/lib/python3.7/dist-packages/ipykernel_launcher.py:1: SettingWithCopyWarning: \n",
            "A value is trying to be set on a copy of a slice from a DataFrame.\n",
            "Try using .loc[row_indexer,col_indexer] = value instead\n",
            "\n",
            "See the caveats in the documentation: https://pandas.pydata.org/pandas-docs/stable/user_guide/indexing.html#returning-a-view-versus-a-copy\n",
            "  \"\"\"Entry point for launching an IPython kernel.\n"
          ]
        },
        {
          "output_type": "execute_result",
          "data": {
            "text/plain": [
              "   area    price  postDate land_certificate house_direction balcony_direction  \\\n",
              "0  50.0  14700.0     44197            So do        dong-Nam          dong-Nam   \n",
              "1  57.0   4200.0     44265            So do             Nam               Nam   \n",
              "2  62.0  11000.0     44268            So do        dong-Nam          dong-Nam   \n",
              "3  26.0   2900.0     44292            So do        dong-Nam          dong-Nam   \n",
              "4  40.0   3950.0     44292            So do        dong-Nam          dong-Nam   \n",
              "\n",
              "   toilet  bedroom  floor        lat        long property_type         P/A  \n",
              "0     4.0      6.0    6.0  21.015698  105.824583     trong ngo  294.000000  \n",
              "1     3.0      8.0    4.0  21.025208  105.833111     trong ngo   73.684211  \n",
              "2     6.0      5.0    6.0  21.025379  105.801011     trong ngo  177.419355  \n",
              "3     4.0      3.0    4.0  21.014325  105.834918     trong ngo  111.538462  \n",
              "4     4.0      3.0    5.0  21.009862  105.838083     trong ngo   98.750000  "
            ],
            "text/html": [
              "\n",
              "  <div id=\"df-d79f3be3-5ca5-4e81-bc75-eb17ccccdbdf\">\n",
              "    <div class=\"colab-df-container\">\n",
              "      <div>\n",
              "<style scoped>\n",
              "    .dataframe tbody tr th:only-of-type {\n",
              "        vertical-align: middle;\n",
              "    }\n",
              "\n",
              "    .dataframe tbody tr th {\n",
              "        vertical-align: top;\n",
              "    }\n",
              "\n",
              "    .dataframe thead th {\n",
              "        text-align: right;\n",
              "    }\n",
              "</style>\n",
              "<table border=\"1\" class=\"dataframe\">\n",
              "  <thead>\n",
              "    <tr style=\"text-align: right;\">\n",
              "      <th></th>\n",
              "      <th>area</th>\n",
              "      <th>price</th>\n",
              "      <th>postDate</th>\n",
              "      <th>land_certificate</th>\n",
              "      <th>house_direction</th>\n",
              "      <th>balcony_direction</th>\n",
              "      <th>toilet</th>\n",
              "      <th>bedroom</th>\n",
              "      <th>floor</th>\n",
              "      <th>lat</th>\n",
              "      <th>long</th>\n",
              "      <th>property_type</th>\n",
              "      <th>P/A</th>\n",
              "    </tr>\n",
              "  </thead>\n",
              "  <tbody>\n",
              "    <tr>\n",
              "      <th>0</th>\n",
              "      <td>50.0</td>\n",
              "      <td>14700.0</td>\n",
              "      <td>44197</td>\n",
              "      <td>So do</td>\n",
              "      <td>dong-Nam</td>\n",
              "      <td>dong-Nam</td>\n",
              "      <td>4.0</td>\n",
              "      <td>6.0</td>\n",
              "      <td>6.0</td>\n",
              "      <td>21.015698</td>\n",
              "      <td>105.824583</td>\n",
              "      <td>trong ngo</td>\n",
              "      <td>294.000000</td>\n",
              "    </tr>\n",
              "    <tr>\n",
              "      <th>1</th>\n",
              "      <td>57.0</td>\n",
              "      <td>4200.0</td>\n",
              "      <td>44265</td>\n",
              "      <td>So do</td>\n",
              "      <td>Nam</td>\n",
              "      <td>Nam</td>\n",
              "      <td>3.0</td>\n",
              "      <td>8.0</td>\n",
              "      <td>4.0</td>\n",
              "      <td>21.025208</td>\n",
              "      <td>105.833111</td>\n",
              "      <td>trong ngo</td>\n",
              "      <td>73.684211</td>\n",
              "    </tr>\n",
              "    <tr>\n",
              "      <th>2</th>\n",
              "      <td>62.0</td>\n",
              "      <td>11000.0</td>\n",
              "      <td>44268</td>\n",
              "      <td>So do</td>\n",
              "      <td>dong-Nam</td>\n",
              "      <td>dong-Nam</td>\n",
              "      <td>6.0</td>\n",
              "      <td>5.0</td>\n",
              "      <td>6.0</td>\n",
              "      <td>21.025379</td>\n",
              "      <td>105.801011</td>\n",
              "      <td>trong ngo</td>\n",
              "      <td>177.419355</td>\n",
              "    </tr>\n",
              "    <tr>\n",
              "      <th>3</th>\n",
              "      <td>26.0</td>\n",
              "      <td>2900.0</td>\n",
              "      <td>44292</td>\n",
              "      <td>So do</td>\n",
              "      <td>dong-Nam</td>\n",
              "      <td>dong-Nam</td>\n",
              "      <td>4.0</td>\n",
              "      <td>3.0</td>\n",
              "      <td>4.0</td>\n",
              "      <td>21.014325</td>\n",
              "      <td>105.834918</td>\n",
              "      <td>trong ngo</td>\n",
              "      <td>111.538462</td>\n",
              "    </tr>\n",
              "    <tr>\n",
              "      <th>4</th>\n",
              "      <td>40.0</td>\n",
              "      <td>3950.0</td>\n",
              "      <td>44292</td>\n",
              "      <td>So do</td>\n",
              "      <td>dong-Nam</td>\n",
              "      <td>dong-Nam</td>\n",
              "      <td>4.0</td>\n",
              "      <td>3.0</td>\n",
              "      <td>5.0</td>\n",
              "      <td>21.009862</td>\n",
              "      <td>105.838083</td>\n",
              "      <td>trong ngo</td>\n",
              "      <td>98.750000</td>\n",
              "    </tr>\n",
              "  </tbody>\n",
              "</table>\n",
              "</div>\n",
              "      <button class=\"colab-df-convert\" onclick=\"convertToInteractive('df-d79f3be3-5ca5-4e81-bc75-eb17ccccdbdf')\"\n",
              "              title=\"Convert this dataframe to an interactive table.\"\n",
              "              style=\"display:none;\">\n",
              "        \n",
              "  <svg xmlns=\"http://www.w3.org/2000/svg\" height=\"24px\"viewBox=\"0 0 24 24\"\n",
              "       width=\"24px\">\n",
              "    <path d=\"M0 0h24v24H0V0z\" fill=\"none\"/>\n",
              "    <path d=\"M18.56 5.44l.94 2.06.94-2.06 2.06-.94-2.06-.94-.94-2.06-.94 2.06-2.06.94zm-11 1L8.5 8.5l.94-2.06 2.06-.94-2.06-.94L8.5 2.5l-.94 2.06-2.06.94zm10 10l.94 2.06.94-2.06 2.06-.94-2.06-.94-.94-2.06-.94 2.06-2.06.94z\"/><path d=\"M17.41 7.96l-1.37-1.37c-.4-.4-.92-.59-1.43-.59-.52 0-1.04.2-1.43.59L10.3 9.45l-7.72 7.72c-.78.78-.78 2.05 0 2.83L4 21.41c.39.39.9.59 1.41.59.51 0 1.02-.2 1.41-.59l7.78-7.78 2.81-2.81c.8-.78.8-2.07 0-2.86zM5.41 20L4 18.59l7.72-7.72 1.47 1.35L5.41 20z\"/>\n",
              "  </svg>\n",
              "      </button>\n",
              "      \n",
              "  <style>\n",
              "    .colab-df-container {\n",
              "      display:flex;\n",
              "      flex-wrap:wrap;\n",
              "      gap: 12px;\n",
              "    }\n",
              "\n",
              "    .colab-df-convert {\n",
              "      background-color: #E8F0FE;\n",
              "      border: none;\n",
              "      border-radius: 50%;\n",
              "      cursor: pointer;\n",
              "      display: none;\n",
              "      fill: #1967D2;\n",
              "      height: 32px;\n",
              "      padding: 0 0 0 0;\n",
              "      width: 32px;\n",
              "    }\n",
              "\n",
              "    .colab-df-convert:hover {\n",
              "      background-color: #E2EBFA;\n",
              "      box-shadow: 0px 1px 2px rgba(60, 64, 67, 0.3), 0px 1px 3px 1px rgba(60, 64, 67, 0.15);\n",
              "      fill: #174EA6;\n",
              "    }\n",
              "\n",
              "    [theme=dark] .colab-df-convert {\n",
              "      background-color: #3B4455;\n",
              "      fill: #D2E3FC;\n",
              "    }\n",
              "\n",
              "    [theme=dark] .colab-df-convert:hover {\n",
              "      background-color: #434B5C;\n",
              "      box-shadow: 0px 1px 3px 1px rgba(0, 0, 0, 0.15);\n",
              "      filter: drop-shadow(0px 1px 2px rgba(0, 0, 0, 0.3));\n",
              "      fill: #FFFFFF;\n",
              "    }\n",
              "  </style>\n",
              "\n",
              "      <script>\n",
              "        const buttonEl =\n",
              "          document.querySelector('#df-d79f3be3-5ca5-4e81-bc75-eb17ccccdbdf button.colab-df-convert');\n",
              "        buttonEl.style.display =\n",
              "          google.colab.kernel.accessAllowed ? 'block' : 'none';\n",
              "\n",
              "        async function convertToInteractive(key) {\n",
              "          const element = document.querySelector('#df-d79f3be3-5ca5-4e81-bc75-eb17ccccdbdf');\n",
              "          const dataTable =\n",
              "            await google.colab.kernel.invokeFunction('convertToInteractive',\n",
              "                                                     [key], {});\n",
              "          if (!dataTable) return;\n",
              "\n",
              "          const docLinkHtml = 'Like what you see? Visit the ' +\n",
              "            '<a target=\"_blank\" href=https://colab.research.google.com/notebooks/data_table.ipynb>data table notebook</a>'\n",
              "            + ' to learn more about interactive tables.';\n",
              "          element.innerHTML = '';\n",
              "          dataTable['output_type'] = 'display_data';\n",
              "          await google.colab.output.renderOutput(dataTable, element);\n",
              "          const docLink = document.createElement('div');\n",
              "          docLink.innerHTML = docLinkHtml;\n",
              "          element.appendChild(docLink);\n",
              "        }\n",
              "      </script>\n",
              "    </div>\n",
              "  </div>\n",
              "  "
            ]
          },
          "metadata": {},
          "execution_count": 24
        }
      ]
    },
    {
      "cell_type": "code",
      "source": [
        "df1['property_type'].value_counts()"
      ],
      "metadata": {
        "colab": {
          "base_uri": "https://localhost:8080/"
        },
        "id": "e46C098dq97f",
        "outputId": "0ed6cff1-6f15-4e92-fbe4-29a571b94c2a"
      },
      "execution_count": null,
      "outputs": [
        {
          "output_type": "execute_result",
          "data": {
            "text/plain": [
              "trong ngo    391\n",
              "mat pho      209\n",
              "Name: property_type, dtype: int64"
            ]
          },
          "metadata": {},
          "execution_count": 25
        }
      ]
    },
    {
      "cell_type": "code",
      "source": [
        "df1.groupby('property_type')['P/A'].mean()"
      ],
      "metadata": {
        "colab": {
          "base_uri": "https://localhost:8080/"
        },
        "id": "F2s8YUu_rPK3",
        "outputId": "25859e5e-dccd-45b8-c7ec-d48d1adede04"
      },
      "execution_count": null,
      "outputs": [
        {
          "output_type": "execute_result",
          "data": {
            "text/plain": [
              "property_type\n",
              "mat pho      377.477731\n",
              "trong ngo    138.160081\n",
              "Name: P/A, dtype: float64"
            ]
          },
          "metadata": {},
          "execution_count": 27
        }
      ]
    },
    {
      "cell_type": "code",
      "source": [
        "x = ['trong ngo', 'mat pho']\n",
        "y = [138.160081, 377.477731]\n",
        "plt.bar(x, y)\n",
        "plt.title('so sánh giá nhà trung bình trên 1 m2 giữa các hình thức nhà', fontsize = 14)\n",
        "plt.xlabel('Type', fontsize = 12)\n",
        "plt.ylabel('P/A mean', fontsize = 12)\n",
        "plt.show()"
      ],
      "metadata": {
        "colab": {
          "base_uri": "https://localhost:8080/",
          "height": 300
        },
        "id": "Z9cGynDUr1GW",
        "outputId": "71eadd79-8073-4055-ada9-e1e3bf48bc08"
      },
      "execution_count": null,
      "outputs": [
        {
          "output_type": "display_data",
          "data": {
            "text/plain": [
              "<Figure size 432x288 with 1 Axes>"
            ],
            "image/png": "[encoded data removed]"
          },
          "metadata": {
            "needs_background": "light"
          }
        }
      ]
    }
  ]
}